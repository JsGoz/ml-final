{
 "cells": [
  {
   "cell_type": "code",
   "execution_count": 32,
   "id": "98b90f06-4418-4c21-8679-02353d8faa3e",
   "metadata": {},
   "outputs": [],
   "source": [
    "# -----------------------------\n",
    "# Imports\n",
    "# -----------------------------\n",
    "import os\n",
    "import pandas as pd\n",
    "\n",
    "from sklearn.model_selection import train_test_split\n",
    "from sklearn.preprocessing import StandardScaler\n",
    "from sklearn.linear_model import LogisticRegression\n",
    "from sklearn.metrics import classification_report\n",
    "\n",
    "from sklearn.compose import ColumnTransformer\n",
    "from sklearn.preprocessing import PolynomialFeatures, StandardScaler\n",
    "from sklearn.pipeline import Pipeline\n",
    "from sklearn.model_selection import cross_val_score, StratifiedKFold\n",
    "import numpy as np\n",
    "\n"
   ]
  },
  {
   "cell_type": "code",
   "execution_count": 33,
   "id": "a5aa9972-811e-4b50-8049-1cce61e3bfc0",
   "metadata": {},
   "outputs": [],
   "source": [
    "# -----------------------------\n",
    "# SPRINT 1\n",
    "# -----------------------------"
   ]
  },
  {
   "cell_type": "code",
   "execution_count": 34,
   "id": "1b8749dd-5b76-49dd-a109-96b796aa37f9",
   "metadata": {},
   "outputs": [
    {
     "name": "stdout",
     "output_type": "stream",
     "text": [
      "Directorio actual: C:\\MP_ML\n"
     ]
    }
   ],
   "source": [
    "os.chdir(\"C:/MP_ML\")\n",
    "print(\"Directorio actual:\", os.getcwd())"
   ]
  },
  {
   "cell_type": "code",
   "execution_count": 35,
   "id": "57af8382-d492-425f-b27c-e36013710f53",
   "metadata": {},
   "outputs": [
    {
     "name": "stdout",
     "output_type": "stream",
     "text": [
      "Index(['x0', 'x1', 'x2', 'x3', 'x4', 'x5', 'x6', 'x7', 'x8', 'x9', 'x10',\n",
      "       'x11', 'target'],\n",
      "      dtype='object')\n"
     ]
    },
    {
     "data": {
      "text/html": [
       "<div>\n",
       "<style scoped>\n",
       "    .dataframe tbody tr th:only-of-type {\n",
       "        vertical-align: middle;\n",
       "    }\n",
       "\n",
       "    .dataframe tbody tr th {\n",
       "        vertical-align: top;\n",
       "    }\n",
       "\n",
       "    .dataframe thead th {\n",
       "        text-align: right;\n",
       "    }\n",
       "</style>\n",
       "<table border=\"1\" class=\"dataframe\">\n",
       "  <thead>\n",
       "    <tr style=\"text-align: right;\">\n",
       "      <th></th>\n",
       "      <th>x0</th>\n",
       "      <th>x1</th>\n",
       "      <th>x2</th>\n",
       "      <th>x3</th>\n",
       "      <th>x4</th>\n",
       "      <th>x5</th>\n",
       "      <th>x6</th>\n",
       "      <th>x7</th>\n",
       "      <th>x8</th>\n",
       "      <th>x9</th>\n",
       "      <th>x10</th>\n",
       "      <th>x11</th>\n",
       "      <th>target</th>\n",
       "    </tr>\n",
       "  </thead>\n",
       "  <tbody>\n",
       "    <tr>\n",
       "      <th>0</th>\n",
       "      <td>1.600058</td>\n",
       "      <td>-0.255107</td>\n",
       "      <td>4.539854</td>\n",
       "      <td>-1.328546</td>\n",
       "      <td>1.427454</td>\n",
       "      <td>2.334626</td>\n",
       "      <td>1.627330</td>\n",
       "      <td>1.593896</td>\n",
       "      <td>0.982328</td>\n",
       "      <td>0.036516</td>\n",
       "      <td>-1.019118</td>\n",
       "      <td>-1.436765</td>\n",
       "      <td>1</td>\n",
       "    </tr>\n",
       "    <tr>\n",
       "      <th>1</th>\n",
       "      <td>2.435731</td>\n",
       "      <td>-2.776778</td>\n",
       "      <td>-5.613316</td>\n",
       "      <td>1.258602</td>\n",
       "      <td>-0.526397</td>\n",
       "      <td>-0.756025</td>\n",
       "      <td>1.627382</td>\n",
       "      <td>3.043330</td>\n",
       "      <td>0.975805</td>\n",
       "      <td>-3.937250</td>\n",
       "      <td>-0.894762</td>\n",
       "      <td>5.067277</td>\n",
       "      <td>1</td>\n",
       "    </tr>\n",
       "    <tr>\n",
       "      <th>2</th>\n",
       "      <td>4.622693</td>\n",
       "      <td>-2.302317</td>\n",
       "      <td>3.153156</td>\n",
       "      <td>-2.652171</td>\n",
       "      <td>0.057744</td>\n",
       "      <td>0.171464</td>\n",
       "      <td>2.205094</td>\n",
       "      <td>2.796084</td>\n",
       "      <td>4.350200</td>\n",
       "      <td>0.730463</td>\n",
       "      <td>1.059515</td>\n",
       "      <td>-2.035405</td>\n",
       "      <td>1</td>\n",
       "    </tr>\n",
       "    <tr>\n",
       "      <th>3</th>\n",
       "      <td>-0.250656</td>\n",
       "      <td>-1.709246</td>\n",
       "      <td>1.818810</td>\n",
       "      <td>-1.601550</td>\n",
       "      <td>-1.129601</td>\n",
       "      <td>-1.111861</td>\n",
       "      <td>-2.383055</td>\n",
       "      <td>-1.867726</td>\n",
       "      <td>0.142418</td>\n",
       "      <td>1.828026</td>\n",
       "      <td>1.036688</td>\n",
       "      <td>-1.556186</td>\n",
       "      <td>0</td>\n",
       "    </tr>\n",
       "    <tr>\n",
       "      <th>4</th>\n",
       "      <td>2.945809</td>\n",
       "      <td>-0.630331</td>\n",
       "      <td>-3.624051</td>\n",
       "      <td>0.709297</td>\n",
       "      <td>0.077099</td>\n",
       "      <td>-4.380572</td>\n",
       "      <td>-0.938039</td>\n",
       "      <td>0.010142</td>\n",
       "      <td>0.834341</td>\n",
       "      <td>0.504602</td>\n",
       "      <td>0.868038</td>\n",
       "      <td>-0.970574</td>\n",
       "      <td>0</td>\n",
       "    </tr>\n",
       "  </tbody>\n",
       "</table>\n",
       "</div>"
      ],
      "text/plain": [
       "         x0        x1        x2        x3        x4        x5        x6  \\\n",
       "0  1.600058 -0.255107  4.539854 -1.328546  1.427454  2.334626  1.627330   \n",
       "1  2.435731 -2.776778 -5.613316  1.258602 -0.526397 -0.756025  1.627382   \n",
       "2  4.622693 -2.302317  3.153156 -2.652171  0.057744  0.171464  2.205094   \n",
       "3 -0.250656 -1.709246  1.818810 -1.601550 -1.129601 -1.111861 -2.383055   \n",
       "4  2.945809 -0.630331 -3.624051  0.709297  0.077099 -4.380572 -0.938039   \n",
       "\n",
       "         x7        x8        x9       x10       x11  target  \n",
       "0  1.593896  0.982328  0.036516 -1.019118 -1.436765       1  \n",
       "1  3.043330  0.975805 -3.937250 -0.894762  5.067277       1  \n",
       "2  2.796084  4.350200  0.730463  1.059515 -2.035405       1  \n",
       "3 -1.867726  0.142418  1.828026  1.036688 -1.556186       0  \n",
       "4  0.010142  0.834341  0.504602  0.868038 -0.970574       0  "
      ]
     },
     "execution_count": 35,
     "metadata": {},
     "output_type": "execute_result"
    }
   ],
   "source": [
    "#✅ Paso 2: Explorar columnas y entender el dataset\n",
    "train = pd.read_csv(\"data/train.csv\")\n",
    "test = pd.read_csv(\"data/test.csv\")\n",
    "print(train.columns)\n",
    "train.head()"
   ]
  },
  {
   "cell_type": "code",
   "execution_count": 36,
   "id": "a084046f-8212-49d0-8f94-eeb524d050a0",
   "metadata": {},
   "outputs": [
    {
     "name": "stdout",
     "output_type": "stream",
     "text": [
      "              precision    recall  f1-score   support\n",
      "\n",
      "           0       0.91      0.93      0.92       124\n",
      "           1       0.78      0.84      0.81        37\n",
      "           2       0.79      0.58      0.67        19\n",
      "\n",
      "    accuracy                           0.87       180\n",
      "   macro avg       0.82      0.78      0.80       180\n",
      "weighted avg       0.87      0.87      0.87       180\n",
      "\n"
     ]
    }
   ],
   "source": [
    "#🔧 Paso 3: Armar baseline (modelo inicial)\n",
    "#Celda: Separar features y target\n",
    "\n",
    "# Cambia \"target\" si tu columna objetivo tiene otro nombre\n",
    "X = train.drop(columns=[\"target\"])  \n",
    "y = train[\"target\"]\n",
    "\n",
    "# Separar train y validación\n",
    "X_train, X_val, y_train, y_val = train_test_split(\n",
    "    X, y, test_size=0.2, stratify=y, random_state=42\n",
    ")\n",
    "\n",
    "#Celda: Escalar y entrenar modelo\n",
    "\n",
    "# Escalado\n",
    "scaler = StandardScaler()\n",
    "X_train_scaled = scaler.fit_transform(X_train)\n",
    "X_val_scaled = scaler.transform(X_val)\n",
    "\n",
    "# Entrenar baseline\n",
    "clf = LogisticRegression(max_iter=1000)\n",
    "clf.fit(X_train_scaled, y_train)\n",
    "\n",
    "# Evaluar en validación\n",
    "y_val_pred = clf.predict(X_val_scaled)\n",
    "print(classification_report(y_val, y_val_pred))"
   ]
  },
  {
   "cell_type": "code",
   "execution_count": 37,
   "id": "2484425d-e170-444d-a86a-6e2f6eda48ac",
   "metadata": {},
   "outputs": [
    {
     "data": {
      "text/html": [
       "<div>\n",
       "<style scoped>\n",
       "    .dataframe tbody tr th:only-of-type {\n",
       "        vertical-align: middle;\n",
       "    }\n",
       "\n",
       "    .dataframe tbody tr th {\n",
       "        vertical-align: top;\n",
       "    }\n",
       "\n",
       "    .dataframe thead th {\n",
       "        text-align: right;\n",
       "    }\n",
       "</style>\n",
       "<table border=\"1\" class=\"dataframe\">\n",
       "  <thead>\n",
       "    <tr style=\"text-align: right;\">\n",
       "      <th></th>\n",
       "      <th>id</th>\n",
       "      <th>pred</th>\n",
       "    </tr>\n",
       "  </thead>\n",
       "  <tbody>\n",
       "    <tr>\n",
       "      <th>0</th>\n",
       "      <td>0</td>\n",
       "      <td>0</td>\n",
       "    </tr>\n",
       "    <tr>\n",
       "      <th>1</th>\n",
       "      <td>1</td>\n",
       "      <td>1</td>\n",
       "    </tr>\n",
       "    <tr>\n",
       "      <th>2</th>\n",
       "      <td>2</td>\n",
       "      <td>2</td>\n",
       "    </tr>\n",
       "    <tr>\n",
       "      <th>3</th>\n",
       "      <td>3</td>\n",
       "      <td>2</td>\n",
       "    </tr>\n",
       "    <tr>\n",
       "      <th>4</th>\n",
       "      <td>4</td>\n",
       "      <td>0</td>\n",
       "    </tr>\n",
       "  </tbody>\n",
       "</table>\n",
       "</div>"
      ],
      "text/plain": [
       "   id  pred\n",
       "0   0     0\n",
       "1   1     1\n",
       "2   2     2\n",
       "3   3     2\n",
       "4   4     0"
      ]
     },
     "execution_count": 37,
     "metadata": {},
     "output_type": "execute_result"
    }
   ],
   "source": [
    "#📤 Paso 4: Predecir en test.csv y guardar submission\n",
    "\n",
    "# Asegúrate de que 'id' está en test\n",
    "X_test = test.drop(columns=[\"id\"])  # Mantener como DataFrame\n",
    "X_test_scaled = scaler.transform(X_test)\n",
    "\n",
    "y_test_pred = clf.predict(X_test_scaled)\n",
    "\n",
    "submission = pd.DataFrame({\n",
    "    \"id\": test[\"id\"],\n",
    "    \"pred\": y_test_pred\n",
    "})\n",
    "\n",
    "# Crear carpeta si no existe\n",
    "import os\n",
    "os.makedirs(\"submissions\", exist_ok=True)\n",
    "\n",
    "# Guardar CSV\n",
    "submission.to_csv(\"submissions/equipo1.csv\", index=False)\n",
    "pd.read_csv(\"submissions/equipo1.csv\").head()\n"
   ]
  },
  {
   "cell_type": "code",
   "execution_count": 38,
   "id": "8256dc55-1c1f-45a0-ad36-a7fbdc250efb",
   "metadata": {},
   "outputs": [
    {
     "name": "stdout",
     "output_type": "stream",
     "text": [
      "=== RESULTADOS (TEST) ===\n",
      "Accuracy     : 0.873\n",
      "F1 (macro)   : 0.814\n",
      "F1 (weighted): 0.871\n",
      "F1 (micro)   : 0.873\n",
      "\n",
      "Classification report:\n",
      "               precision    recall  f1-score   support\n",
      "\n",
      "           0      0.902     0.937     0.919       207\n",
      "           1      0.830     0.721     0.772        61\n",
      "           2      0.750     0.750     0.750        32\n",
      "\n",
      "    accuracy                          0.873       300\n",
      "   macro avg      0.828     0.803     0.814       300\n",
      "weighted avg      0.871     0.873     0.871       300\n",
      "\n",
      "Confusion matrix:\n",
      " [[194   8   5]\n",
      " [ 14  44   3]\n",
      " [  7   1  24]]\n",
      "\n",
      "Leaderboard actualizado en leaderboard.csv\n"
     ]
    }
   ],
   "source": [
    "#🏁 Paso 5: Evaluar y registrar en el leaderboard\n",
    "!python scripts/evaluate.py submissions/equipo1.csv --team equipo1"
   ]
  },
  {
   "cell_type": "code",
   "execution_count": 39,
   "id": "2beb40dc-6bfb-4322-b9fe-92f5f8d5b854",
   "metadata": {},
   "outputs": [],
   "source": [
    "# -----------------------------\n",
    "# SPRINT 2\n",
    "# -----------------------------"
   ]
  },
  {
   "cell_type": "code",
   "execution_count": 40,
   "id": "2cd17975-ce31-4176-aa93-159a48d80c48",
   "metadata": {},
   "outputs": [],
   "source": [
    "#🚀 Paso 1: Preparar transformaciones y pipeline\n",
    "#Definir las columnas numéricas (ejemplo: todas las que tienes)\n",
    "num_features = X_train.columns.tolist()\n",
    "\n",
    "#Crear pipeline con PolynomialFeatures, escalado y regresión logística\n",
    "# Pipeline para las features numéricas\n",
    "numeric_transformer = Pipeline([\n",
    "    ('poly', PolynomialFeatures(degree=2, include_bias=False)),\n",
    "    ('scaler', StandardScaler())\n",
    "])\n",
    "\n",
    "preprocessor = ColumnTransformer(\n",
    "    transformers=[\n",
    "        ('num', numeric_transformer, num_features)\n",
    "    ]\n",
    ")\n",
    "\n",
    "pipeline = Pipeline([\n",
    "    ('preprocessor', preprocessor),\n",
    "    ('clf', LogisticRegression(max_iter=1000, C=1.0))\n",
    "])"
   ]
  },
  {
   "cell_type": "code",
   "execution_count": 41,
   "id": "88716ad7-370e-438c-af8f-9ff623256186",
   "metadata": {},
   "outputs": [
    {
     "name": "stdout",
     "output_type": "stream",
     "text": [
      "Macro-F1 CV scores: [0.83719334 0.83378071 0.85649432 0.86461251 0.86883001]\n",
      "Media Macro-F1: 0.8521821790994473\n"
     ]
    }
   ],
   "source": [
    "#🚀 Paso 2: Validación cruzada con 5 folds\n",
    "cv = StratifiedKFold(n_splits=5, shuffle=True, random_state=42)\n",
    "\n",
    "scores = cross_val_score(pipeline, X_train, y_train, cv=cv, scoring='f1_macro')\n",
    "\n",
    "print(\"Macro-F1 CV scores:\", scores)\n",
    "print(\"Media Macro-F1:\", np.mean(scores))\n"
   ]
  },
  {
   "cell_type": "code",
   "execution_count": 42,
   "id": "d502336b-bd9a-4746-a3a3-4c11ea728d4e",
   "metadata": {},
   "outputs": [
    {
     "name": "stdout",
     "output_type": "stream",
     "text": [
      "              precision    recall  f1-score   support\n",
      "\n",
      "           0       0.95      0.98      0.96       124\n",
      "           1       0.84      0.86      0.85        37\n",
      "           2       0.87      0.68      0.76        19\n",
      "\n",
      "    accuracy                           0.92       180\n",
      "   macro avg       0.89      0.84      0.86       180\n",
      "weighted avg       0.92      0.92      0.92       180\n",
      "\n"
     ]
    }
   ],
   "source": [
    "#🚀 Paso 3: Entrenar pipeline con todo el train y predecir test\n",
    "pipeline.fit(X_train, y_train)\n",
    "\n",
    "# Validar localmente\n",
    "y_val_pred = pipeline.predict(X_val)\n",
    "print(classification_report(y_val, y_val_pred))"
   ]
  },
  {
   "cell_type": "code",
   "execution_count": 43,
   "id": "ce6da394-38be-4837-a134-c69a4f72c277",
   "metadata": {},
   "outputs": [
    {
     "data": {
      "text/html": [
       "<div>\n",
       "<style scoped>\n",
       "    .dataframe tbody tr th:only-of-type {\n",
       "        vertical-align: middle;\n",
       "    }\n",
       "\n",
       "    .dataframe tbody tr th {\n",
       "        vertical-align: top;\n",
       "    }\n",
       "\n",
       "    .dataframe thead th {\n",
       "        text-align: right;\n",
       "    }\n",
       "</style>\n",
       "<table border=\"1\" class=\"dataframe\">\n",
       "  <thead>\n",
       "    <tr style=\"text-align: right;\">\n",
       "      <th></th>\n",
       "      <th>id</th>\n",
       "      <th>pred</th>\n",
       "    </tr>\n",
       "  </thead>\n",
       "  <tbody>\n",
       "    <tr>\n",
       "      <th>0</th>\n",
       "      <td>0</td>\n",
       "      <td>0</td>\n",
       "    </tr>\n",
       "    <tr>\n",
       "      <th>1</th>\n",
       "      <td>1</td>\n",
       "      <td>1</td>\n",
       "    </tr>\n",
       "    <tr>\n",
       "      <th>2</th>\n",
       "      <td>2</td>\n",
       "      <td>2</td>\n",
       "    </tr>\n",
       "    <tr>\n",
       "      <th>3</th>\n",
       "      <td>3</td>\n",
       "      <td>2</td>\n",
       "    </tr>\n",
       "    <tr>\n",
       "      <th>4</th>\n",
       "      <td>4</td>\n",
       "      <td>0</td>\n",
       "    </tr>\n",
       "  </tbody>\n",
       "</table>\n",
       "</div>"
      ],
      "text/plain": [
       "   id  pred\n",
       "0   0     0\n",
       "1   1     1\n",
       "2   2     2\n",
       "3   3     2\n",
       "4   4     0"
      ]
     },
     "execution_count": 43,
     "metadata": {},
     "output_type": "execute_result"
    }
   ],
   "source": [
    "#🚀 Paso 4: Predecir en test y guardar submission\n",
    "y_test_pred = pipeline.predict(test[X_train.columns])\n",
    "\n",
    "submission = pd.DataFrame({\n",
    "    \"id\": test[\"id\"],\n",
    "    \"pred\": y_test_pred\n",
    "})\n",
    "\n",
    "submission.to_csv(\"submissions/equipo1_cv.csv\", index=False)\n",
    "submission.head()\n"
   ]
  },
  {
   "cell_type": "code",
   "execution_count": 44,
   "id": "b4f95f3f-84c9-4dba-bbe9-c6823b76d7d3",
   "metadata": {},
   "outputs": [
    {
     "name": "stdout",
     "output_type": "stream",
     "text": [
      "=== RESULTADOS (TEST) ===\n",
      "Accuracy     : 0.910\n",
      "F1 (macro)   : 0.863\n",
      "F1 (weighted): 0.909\n",
      "F1 (micro)   : 0.910\n",
      "\n",
      "Classification report:\n",
      "               precision    recall  f1-score   support\n",
      "\n",
      "           0      0.926     0.961     0.943       207\n",
      "           1      0.907     0.803     0.852        61\n",
      "           2      0.806     0.781     0.794        32\n",
      "\n",
      "    accuracy                          0.910       300\n",
      "   macro avg      0.880     0.849     0.863       300\n",
      "weighted avg      0.909     0.910     0.909       300\n",
      "\n",
      "Confusion matrix:\n",
      " [[199   2   6]\n",
      " [ 12  49   0]\n",
      " [  4   3  25]]\n",
      "\n",
      "Leaderboard actualizado en leaderboard.csv\n"
     ]
    }
   ],
   "source": [
    "#🚀 Paso 5: Evaluar y actualizar leaderboard\n",
    "!python scripts/evaluate.py submissions/equipo1_cv.csv --team equipo1"
   ]
  },
  {
   "cell_type": "code",
   "execution_count": null,
   "id": "8c01677b-3b72-4564-ac37-1c80b1338aaa",
   "metadata": {},
   "outputs": [],
   "source": []
  }
 ],
 "metadata": {
  "kernelspec": {
   "display_name": "Python 3 (ipykernel)",
   "language": "python",
   "name": "python3"
  },
  "language_info": {
   "codemirror_mode": {
    "name": "ipython",
    "version": 3
   },
   "file_extension": ".py",
   "mimetype": "text/x-python",
   "name": "python",
   "nbconvert_exporter": "python",
   "pygments_lexer": "ipython3",
   "version": "3.13.5"
  }
 },
 "nbformat": 4,
 "nbformat_minor": 5
}
